{
 "cells": [
  {
   "cell_type": "code",
   "execution_count": null,
   "metadata": {},
   "outputs": [],
   "source": [
    "import pandas as ps\n",
    "\n",
    "dataset_base = pd.read_csv('/content/results_base_classification.csv', delimiter='|')\n",
    "\n",
    "dataset_base['Label'] = None"
   ]
  },
  {
   "cell_type": "code",
   "execution_count": null,
   "metadata": {},
   "outputs": [],
   "source": [
    "labels = []\n",
    "\n",
    "for index, row in dataset_base.iterrows():\n",
    "    print(f\"Labeling della risposta {index}\")\n",
    "    # Stampiamo 'Question' e 'Answer'\n",
    "    print(f\"Question: {row['Question']}\")\n",
    "    print(f\"Correct Answer: {row['Answer']}\")\n",
    "\n",
    "    # Rimuoviamo il prefisso fino a 'assistant' dalla 'Model_Answer'\n",
    "    risposta = re.sub(r'.*?assistant', '', row['Model_Answer'])\n",
    "    print(f\"Predicted Answer: {risposta}\")\n",
    "\n",
    "    # Input dell'utente\n",
    "    user_input = input(\"Inserisci un numero per Label: \")\n",
    "\n",
    "    labels.append(user_input)"
   ]
  },
  {
   "cell_type": "code",
   "execution_count": null,
   "metadata": {},
   "outputs": [],
   "source": [
    "# Conversione della lista in interi\n",
    "label_list_int = [min(int(label), 1) for label in labels]\n",
    "\n",
    "# Aggiunta della lista come nuova colonna \"Label\" nel DataFrame\n",
    "dataset_base['Label'] = label_list_int\n",
    "\n",
    "dataset_base.to_csv('/content/final_results_base_classification.csv', index=False)"
   ]
  },
  {
   "cell_type": "code",
   "execution_count": null,
   "metadata": {},
   "outputs": [],
   "source": [
    "dataset_base = pd.read_csv('/content/final_results_finetuned_classification.csv')\n",
    "\n",
    "def calculate_percentage(df_section):\n",
    "    return round(df_section['Label'].sum() / len(df_section) * 100, 3)\n",
    "\n",
    "# Prima categoria: righe da 0 a 49 (le prime 50 righe)\n",
    "category_1 = dataset_base.iloc[:50]\n",
    "category_1_percentage = calculate_percentage(category_1)\n",
    "\n",
    "# Seconda categoria: righe da 50 a 74 (25 righe)\n",
    "category_2 = dataset_base.iloc[50:75]\n",
    "category_2_percentage = calculate_percentage(category_2)\n",
    "\n",
    "# Terza categoria: righe da 75 in poi\n",
    "category_3 = dataset_base.iloc[75:]\n",
    "category_3_percentage = calculate_percentage(category_3)\n",
    "\n",
    "# Mostra i risultati\n",
    "print(f\"Percentuale di risposte corrette nella prima categoria: {category_1_percentage}%\")\n",
    "print(f\"Percentuale di risposte corrette nella seconda categoria: {category_2_percentage}%\")\n",
    "print(f\"Percentuale di risposte corrette nella terza categoria: {category_3_percentage}%\")\n",
    "print(f\"Percentuale overall di risposta corretta: {dataset_base['Label'].mean() * 100} %\")"
   ]
  },
  {
   "cell_type": "code",
   "execution_count": null,
   "metadata": {},
   "outputs": [],
   "source": [
    "import plotly.express as px\n",
    "import pandas as pd\n",
    "\n",
    "# Creazione del DataFrame con i dati\n",
    "data = {\n",
    "    'Modello': ['Llama3 Finetuned', 'Llama3 Finetuned', 'Llama3 Finetuned', 'LLama3 Base', 'LLama3 Base', 'LLama3 Base'],\n",
    "    'Categoria': ['Specific Questions', 'Reasoning', 'General Knowledge',\n",
    "                  'Specific Questions', 'Reasoning', 'General Knowledge'],\n",
    "    'Percentuale': [20.0, 4.0, 0.25, 28.0, 48.0, 88.0]\n",
    "}\n",
    "\n",
    "df = pd.DataFrame(data)\n",
    "\n",
    "# Creazione del barplot raggruppato con Plotly\n",
    "fig = px.bar(df, x='Modello', y='Percentuale', color='Categoria', barmode='group', title = \"Percentage of Correct Answers grouped by model\",\n",
    "             color_discrete_map={'Specific Questions': '#f3722c', 'Reasoning': '#90be6d', 'General Knowledge': '#277da1'})\n",
    "\n",
    "# Mostra il grafico\n",
    "fig.show()\n"
   ]
  }
 ],
 "metadata": {
  "language_info": {
   "name": "python"
  }
 },
 "nbformat": 4,
 "nbformat_minor": 2
}
